{
  "nbformat": 4,
  "nbformat_minor": 0,
  "metadata": {
    "colab": {
      "name": "ConvolucionLUT_Desarrollo.ipynb",
      "provenance": [],
      "collapsed_sections": [
        "iUc1ajPC3SHM",
        "Wm2k8B-daBPb"
      ]
    },
    "kernelspec": {
      "name": "python3",
      "display_name": "Python 3"
    },
    "accelerator": "GPU"
  },
  "cells": [
    {
      "cell_type": "markdown",
      "metadata": {
        "id": "iUc1ajPC3SHM",
        "colab_type": "text"
      },
      "source": [
        "## Sobre este notebook de Jupyter"
      ]
    },
    {
      "cell_type": "markdown",
      "metadata": {
        "id": "Wm2k8B-daBPb",
        "colab_type": "text"
      },
      "source": [
        "### Integración entre Python y C / CUDA\n",
        "\n",
        "Estos notebooks ejecutan en general código de Python, pero también podemos utilizar comandos de la consola, escribir y modificar archivos entre otras tareas. Como vamos a trabajar simultaneamente con Python, C y CUDA, escribiremos los códigos en archivos .c y .cu actualizados por este notebook, compilaremos con GCC y NVCC enviando los comandos a la consola e integraremos la ejecución y el análisis con Python.\n",
        "\n",
        "Podemos por ejemplo escribir una función en C que reciba como parámetros dos flotantes y la dirección de memoria de un tercero (para escribir el resultado)."
      ]
    },
    {
      "cell_type": "code",
      "metadata": {
        "id": "u-6wN2tgKgKe",
        "colab_type": "code",
        "outputId": "f3a71a85-504e-4f8e-832a-d7170773db38",
        "colab": {
          "base_uri": "https://localhost:8080/"
        }
      },
      "source": [
        "# writefile genera un archivo en el directorio de trabajo actual\n",
        "%%writefile test.c\n",
        "void suma_numeros(float a, float b, float * c){\n",
        "    *c = a + b;  // Suma a + b y guarda el resultado en c\n",
        "}"
      ],
      "execution_count": 0,
      "outputs": [
        {
          "output_type": "stream",
          "text": [
            "Writing test.c\n"
          ],
          "name": "stdout"
        }
      ]
    },
    {
      "cell_type": "markdown",
      "metadata": {
        "id": "GhNq2ihLeMWe",
        "colab_type": "text"
      },
      "source": [
        "Compilamos mediante gcc, con las opciones **-fPIC** (Position Independent Code) y **-shared** (con linkeo dinámico). Estas dos opciones son fundamentales para poder ejecutar las funciones desde Python."
      ]
    },
    {
      "cell_type": "code",
      "metadata": {
        "id": "UCQbjKe_aLnj",
        "colab_type": "code",
        "outputId": "78e80cbc-1aa0-4394-e6e7-b28defa32f19",
        "colab": {
          "base_uri": "https://localhost:8080/"
        }
      },
      "source": [
        "!gcc -Wall -fPIC -c test.c -o test_o.o\n",
        "!gcc -shared test_o.o -o libtest.so\n",
        "!ls"
      ],
      "execution_count": 0,
      "outputs": [
        {
          "output_type": "stream",
          "text": [
            "libtest.so  sample_data  test.c  test_o.o\n"
          ],
          "name": "stdout"
        }
      ]
    },
    {
      "cell_type": "markdown",
      "metadata": {
        "id": "m5zApVEgg6uX",
        "colab_type": "text"
      },
      "source": [
        "Luego, desde Python, utilizamos la librería del siguiente modo:"
      ]
    },
    {
      "cell_type": "code",
      "metadata": {
        "id": "hlKhuYKFhES_",
        "colab_type": "code",
        "outputId": "05fd7e08-66d1-44c6-bfca-e5463ae7ac6a",
        "colab": {
          "base_uri": "https://localhost:8080/"
        }
      },
      "source": [
        "from ctypes import CDLL, c_float, byref\n",
        "clib = CDLL('./libtest.so')  # Carga la libreria\n",
        "\n",
        "# Genera 3 flotantes de C (python usa por defecto el tipo double)\n",
        "a = c_float(5.3)\n",
        "b = c_float(2.2)\n",
        "c = c_float(0.0)\n",
        "\n",
        "# Llama a la función suma_numeros que hicimos \n",
        "clib.suma_numeros(a, b, byref(c))  # con byref pasa la dirección de c\n",
        "\n",
        "# Verificamos el estado de c y vemos que la función lo modificó\n",
        "print(c)"
      ],
      "execution_count": 0,
      "outputs": [
        {
          "output_type": "stream",
          "text": [
            "c_float(7.5)\n"
          ],
          "name": "stdout"
        }
      ]
    },
    {
      "cell_type": "markdown",
      "metadata": {
        "id": "9ThuTdDglAVj",
        "colab_type": "text"
      },
      "source": [
        "### Google Colabarotory\n",
        "\n",
        "Google Colaboratory es un notebook de Jupyter gratuito que se ejecuta en la nube y se almacena en el espacio de Google Drive. Los recursos que nos ofrece para ejecutar el código incluyen GPUs y TPUs (con tiempos y disponibilidad límitados). Nos permitirá por lo tanto hacer pruebas en CUDA sin utilizar nuestros recursos de computo ni depender de los mismos."
      ]
    },
    {
      "cell_type": "code",
      "metadata": {
        "id": "wwDdEpEslHiq",
        "colab_type": "code",
        "outputId": "5992fe36-4967-4a79-91fa-d101fc6fb313",
        "colab": {
          "base_uri": "https://localhost:8080/"
        }
      },
      "source": [
        "# Si nos conectamos correctamente a una pc con GPU veremos su información\n",
        "# De lo contrario obtendremos un error de comunicación con el driver de NVIDIA\n",
        "!nvidia-smi"
      ],
      "execution_count": 0,
      "outputs": [
        {
          "output_type": "stream",
          "text": [
            "Mon May 25 23:46:36 2020       \n",
            "+-----------------------------------------------------------------------------+\n",
            "| NVIDIA-SMI 440.82       Driver Version: 418.67       CUDA Version: 10.1     |\n",
            "|-------------------------------+----------------------+----------------------+\n",
            "| GPU  Name        Persistence-M| Bus-Id        Disp.A | Volatile Uncorr. ECC |\n",
            "| Fan  Temp  Perf  Pwr:Usage/Cap|         Memory-Usage | GPU-Util  Compute M. |\n",
            "|===============================+======================+======================|\n",
            "|   0  Tesla T4            Off  | 00000000:00:04.0 Off |                    0 |\n",
            "| N/A   56C    P8    10W /  70W |      0MiB / 15079MiB |      0%      Default |\n",
            "+-------------------------------+----------------------+----------------------+\n",
            "                                                                               \n",
            "+-----------------------------------------------------------------------------+\n",
            "| Processes:                                                       GPU Memory |\n",
            "|  GPU       PID   Type   Process name                             Usage      |\n",
            "|=============================================================================|\n",
            "|  No running processes found                                                 |\n",
            "+-----------------------------------------------------------------------------+\n"
          ],
          "name": "stdout"
        }
      ]
    },
    {
      "cell_type": "markdown",
      "metadata": {
        "id": "KvpoUfk5IU2y",
        "colab_type": "text"
      },
      "source": [
        "# Introducción"
      ]
    },
    {
      "cell_type": "markdown",
      "metadata": {
        "id": "0woC9zoRs0Z3",
        "colab_type": "text"
      },
      "source": [
        "Queremos realizar la convolución entre un objeto (representado por una lista de posiciones en $\\,\\!R^2$ o $\\,\\!R^3\\,$) y la PSF asociada al dispositivo de medición. La convolución entre el objeto y la PSF corresponderá entonces a reemplazar cada posición de la lista (fuente puntual) por la PSF (respuesta del dispositivo a un punto).\n",
        "\n",
        "Vamos a considerar el caso donde la PSF esta dada por un conjunto de datos, al que llamaremos LUT (LookUp Table), ya sea porque la misma no puede ser representada por una función parametrizada o porque no resulta conveniente.\n",
        "\n",
        "Reemplazar cada posición por una PSF del tipo LUT significa \"pegar\" los datos de las misma en cada posición. Nos surge entonces una incompatiblidad entre los sistemas de posiciones: la imagen y la LUT ocupan posición discretas (en principio con grillas diferentes), mientras que las fuentes se mueven en forma continua (tan continua como le permite la precisión de máquina).\n",
        "\n",
        "Queremos evitar que las posiciones de las fuentes sean truncadas (o al menos reducir y controlar el efecto de hacerlo), y una forma de hacerlo es aumentar la información existente en la LUT (para poder pegarla en la posición requerida). Si los datos que componen nuestra PSF fueron calculados a partir de una parametrización podremos utilizar la misma para reducir el error de truncado (a costa de utilizar más memoria y tiempo de acceso a la misma). Si en cambio la parametrización no es una opción, deberemos recurrir a algún tipo de interpolado (y caracterizar el error cometido).\n",
        "\n",
        "Debemos aclara que para PSFs parametrizadas ya desarrollamos rutinas de convolución en C (CPU) y CUDA (GPU). Evaluaremos el rendimiento entre ambos casos, ya que cualquier PSF parametrizada puede utilizarse para generar una PSF del tipo LUT."
      ]
    },
    {
      "cell_type": "markdown",
      "metadata": {
        "id": "46rrNvTWknwK",
        "colab_type": "text"
      },
      "source": [
        "### Ejemplo de convolución con PSF parametrizada\n",
        "\n",
        "En el siguiente ejemplo utilizamos una PSF gaussiana calculada para cualquier posición (dominio real) mediante su expresión matemática. Todo el script se ejecuta en Python y no se utiliza la GPU."
      ]
    },
    {
      "cell_type": "code",
      "metadata": {
        "id": "_eKoGhIfepqM",
        "colab_type": "code",
        "outputId": "d36ba902-a767-46ab-8097-f423c0a71789",
        "colab": {
          "base_uri": "https://localhost:8080/",
          "height": 588
        }
      },
      "source": [
        "import numpy as np\n",
        "import matplotlib.pyplot as plt\n",
        "plt.style.use('dark_background')\n",
        "\n",
        "# Tamaño de la imagen convolucionada\n",
        "convolution_size = [64, 64]\n",
        "# Tamaño de la PSF\n",
        "psf_size = (25, 25)\n",
        "# Cantidad de fuentes\n",
        "n_sources = 100\n",
        "# Sigma de la PSF\n",
        "sigma = 2.0\n",
        "\n",
        "# Fuentes\n",
        "sources = np.random.rand(n_sources, 2) * convolution_size\n",
        "\n",
        "# Sistema de coordenadas de la imagen (con origen en una esquina)\n",
        "x, y = np.mgrid[0:convolution_size[0], 0:convolution_size[1]]\n",
        "# Sistema de coordenadas de la PSF (con origen en el centro)\n",
        "x_psf, y_psf = np.mgrid[0:psf_size[0], 0:psf_size[1]]\n",
        "x_psf -= int(psf_size[0] // 2)\n",
        "y_psf -= int(psf_size[1] // 2)\n",
        "\n",
        "# PSF evaluada en el espacio asignado\n",
        "psf = np.exp(-(x_psf**2 + y_psf**2) / sigma**2 / 2)\n",
        "\n",
        "# Imagen de convolución en blanco\n",
        "image = np.zeros(convolution_size[::-1])\n",
        "# Para cada punto en la lista de fuentes\n",
        "for point in sources:\n",
        "    px, py = point\n",
        "    # Calcula la PSF para el desplazamiento decimal dado\n",
        "    displaced_psf = np.exp(-((x-px)**2 + (y-py)**2) / sigma**2 / 2)\n",
        "    # Suma la contribución de la PSF en la imagen\n",
        "    image += displaced_psf\n",
        "\n",
        "# Gráficos\n",
        "figure1, (ax1, ax2, ax3) = plt.subplots(1, 3, figsize=(24,8))\n",
        "\n",
        "ax1.set_title('\\nPosiciones\\n', fontsize=20)\n",
        "ax1.plot(sources[:,0], sources[:, 1], 'g.')\n",
        "ax1.set_xlim(0, convolution_size[0])\n",
        "ax1.set_ylim(0, convolution_size[1])\n",
        "ax1.set_aspect('equal')\n",
        "\n",
        "ax2.set_title('\\nPSF\\n', fontsize=20)\n",
        "ax2.imshow(psf, cmap='gray', aspect='auto',\n",
        "           extent=(x_psf.min(), x_psf.max(), y_psf.min(), y_psf.max()))\n",
        "ax2.set_aspect('equal')\n",
        "\n",
        "ax3.set_aspect('equal')\n",
        "ax3.set_title('\\nConvolución\\n', fontsize=20)\n",
        "ax3.imshow(image.T, cmap='gray', origin='lower',\n",
        "           extent=(0, convolution_size[0], 0, convolution_size[1]))\n",
        "\n",
        "txt = (f'Figura 1. Lista de {n_sources} posiciones aleatorias (izquierda) '\n",
        "       f'convolucionada con una PSF de {psf_size[0]}x{psf_size[0]} pixels\\n'\n",
        "       f'generada por una gaussiana de sigma={sigma} (centro) sobre un área '\n",
        "       f'de {convolution_size[0]}x{convolution_size[1]} pixels (derecha).')\n",
        "\n",
        "figure1.text(0.5, 0.0, txt, wrap=True, \n",
        "             horizontalalignment='center', fontsize=16);\n",
        "\n",
        "figure1.savefig('Figura1.png')"
      ],
      "execution_count": 0,
      "outputs": [
        {
          "output_type": "display_data",
          "data": {
            "image/png": "[encoded data removed]",
            "text/plain": [
              "<Figure size 1728x576 with 3 Axes>"
            ]
          },
          "metadata": {
            "tags": []
          }
        }
      ]
    },
    {
      "cell_type": "markdown",
      "metadata": {
        "id": "va2SJbHSGBlz",
        "colab_type": "text"
      },
      "source": [
        "# Implementando la convolución LUT en la GPU"
      ]
    },
    {
      "cell_type": "markdown",
      "metadata": {
        "id": "cTkCZz3GsiP2",
        "colab_type": "text"
      },
      "source": [
        "Vamos a necesitar que 2 grandes conjuntos de datos sean copiados a la GPU (la lista de posiciones y la PSF) y que otro sea devuelto (la imagen resultante). Nos interesa tener una idea del almacenamiento que requiere cada uno de ellos.\n",
        "Podemos suponer que siempre usamos el tipo de dato *float* que ocupa 4 bytes. Entonces:\n",
        "\n",
        "* La imagen convolucionada tiene $n \\times m$ pixels en el caso 2D. Venimos trabajando con parches cuadrados múltiplos de 16. Para un cuadrado de $64\\times64$ ocuparemos 32Kb.\n",
        "\n",
        "* Las PSF obtenidas por mediciones en general no superan los $25\\times25$ pixels pero debemos considerar la posibilidad de generar los datos mediante PSFs parametrizadas o incluso de pre-interpolar nuestros datos. Estaremos hablando de por lo menos 2Kb.\n",
        "\n",
        "* La cantidad de posiciones puede variar mucho, pero podemos recorrer el camino inverso y suponer que tenemos una cantidad de memoria disponible. Si necesitamos más partículas que las permitidas, haremos más de una convolución y la sumaremos. Entonces, si disponemos por ejemplo de 64Kb, podremos manejar en una sola convolución hasta 8000 fuentes 2D.\n",
        "\n",
        "Con estos números en la cabeza podremos decidir mejor el uso que le daremos a la memoria."
      ]
    },
    {
      "cell_type": "markdown",
      "metadata": {
        "id": "6F5uNrHOAhNV",
        "colab_type": "text"
      },
      "source": [
        "## La memoria en la GPU"
      ]
    },
    {
      "cell_type": "markdown",
      "metadata": {
        "id": "c5pxgR-dsp7b",
        "colab_type": "text"
      },
      "source": [
        "La GPU maneja diferentes tipos de memoria, con tamaños, alcance, persistencia y velocidades diferentes. Ordenadas de menor a mayor por su \"cercanía al procesador\" (como recorrido que realiza un dato hasta ser utilizado) tenemos: la DRAM, el cache L2, el cache L1/Shared y los registros.\n",
        "\n",
        "Cada vez que se solicita memoria en una ejecución paralelizada, el pedido de memoria recorre el camino en orden inverso buscando el dato solicitado. Acceder a L1/Shared es más rápido que acceder a la DRAM por un factor aproximado a 100.\n",
        "\n",
        "La memoria DRAM es la que suele anunciar el fabricante de la GPU junto al modelo del procesador (por ejemplo GTX 1080 de 6GBs). Se encuentra fuera del chip de la GPU, siendo la memoria más lenta pero de mayor tamaño. Se comunica a traves de la memoria cache L2 tanto con la CPU (HOST) como con la GPU (DEVICE).\n",
        "\n",
        "Nos interesa remarcar que la DRAM es ocupada por 4 formatos de memoria: local, global, constante y de texturas. \n",
        "\n",
        "No entraremos en detalles sobre la **memoria local** dado no tenemos control directo sobre ella. Nos alcanza con mencionar que el compilador puede tomar la decisión de utilizarla si, por ejemplo, nos excedemos en el uso de la memoria de registros (la más rápida de todas) perjudicando el rendimiento de nuestro código.\n",
        "\n",
        "La **memoria global** puede ser leída y escrita tanto por HOST como por DEVICE. Es el único tipo de memoria que puede ser modificada por DEVICE y leída por HOST, por lo que cualquier resultado de la GPU es transferido a la CPU en este espacio. La persistencia de la memoria global es la máxima posible (hasta que finaliza la ejecución en GPU) y su alcance (máximo) la vuelve global. Utiliza el cache L2, lo que la vuelve la memoria con el acceso más lento.\n",
        "\n",
        "La **memoria constante** se llama así porque sólo puede ser escrita por HOST o estar predefinida en el código, lo que la vuelve constante para DEVICE. Su tamaño está límitado a 64KB y su alcance es global. Su poder reside en tener acceso a un cache de tipo L1 constante (de 8KB actualmente). Podemos ilustrar la ventaja con el siguiente ejemplo: si todas las ejecuciones que corren en paralelo acceden simultaneamente al mismo elemento de un array en memoria constante se contabilizara (como mucho) un acceso a L2 y su velocidad será cercana a la de L1.\n",
        "\n",
        "La **memoria de texturas** es similar a la memoria constante, pero cuenta con un cache L1 (de hasta 64KB) optimizado para trabajar con arreglos 1D, 2D y 3D.\n",
        "El tamaño máximo asignable a este tipo de memoria (siempre limitado por la DRAM) es de aproximadamente 4GB. Podemos organizar ese espacio en una única textura o administrar una colección de ellas (hasta 2048 en 2D). Las texturas cuentan con hardware dedicado para calcular el acceso a los datos e incluso interpolar resultados (la unidad de mapeo de texturas o TMU). Estas últimas características convierten a las texturas en un excelente recurso para manejar la LUT de nuestra PSF.\n",
        "\n",
        "Además de la DRAM y los diferentes caches controlados por la GPU, contamos con un tipo de memoria a nivel L1 conocida como **memoria compartida** o *shared memory*. Como usuarios podemos decidir que datos son copiados en ella, lo que nos permite optimizar nuestro propio cache en función de nuestras necesidades. Tiene un tamaño aproximado de 64KB (ha ido cambiando con las diferentes arquitecturas y actualmente es configurable hasta 96KB). Este tipo de memoria es un buen candidato para almacenar las listas de posiciones."
      ]
    },
    {
      "cell_type": "markdown",
      "metadata": {
        "id": "ok85mfYibK7j",
        "colab_type": "text"
      },
      "source": [
        "## Definiciones comunes"
      ]
    },
    {
      "cell_type": "markdown",
      "metadata": {
        "id": "Y8nD-ogEsbYk",
        "colab_type": "text"
      },
      "source": [
        "\n",
        "Vamos a generar un archivo de cabecera que contenga funciones auxilares de logging para nuestro código (para informar progresos y errores) y las estructuras de datos que vamos a manejar.\n",
        "\n",
        "Este código define tres macros de precompilación que facilitan la depuración del código y el control de errores: \n",
        "\n",
        "*    *info_print*: nos permite imitar el comportamiento de un logger en modo *info*. Escribe sus mensajes en el buffer *standard output* o *stderr*. Depende de una variable llamada DEBUG. Cuando le pidamos al compilador que utilice DEBUG, estas funciones serán tenidas en cuenta. Es importante notar que la decisión ocurre en la precompilación y, si decidimos no usar el modo DEBUG, la función no existira en el código (ni afectaran de forma alguna su rendimiento).\n",
        "\n",
        "*    *error_print*: es similar a la anterior, pero no puede ser desactivada (no es una opción dejar de reportar los errores). Escribe su mensaje en el buffer *standard error* o *stderr*.\n",
        "\n",
        "*    *CUDA_CHECK_ERROR*: los errores capturados por la GPU deben ser consultados manualmente por el usuario. Esta macro facilita la tarea de lanzar cualquier error capturado valiendose de *error_print*. Si el usuario desea intervenir el error de otra forma deberá consultar manualmente a la GPU mediante *cudaGetLastError* (presente en la API de CUDA).\n",
        "\n",
        "Además, aprovechamos para definir las 3 estructuras que utilizaremos:\n",
        "\n",
        "*   sImage2d: para la imagen convolucionada\n",
        "*   sPositions2d: para la lista de posiciones\n",
        "*   sPSF: para la LUT de la PSF"
      ]
    },
    {
      "cell_type": "code",
      "metadata": {
        "id": "oDxxiGN0brY7",
        "colab_type": "code",
        "outputId": "325fab9d-13fe-46e9-fc4e-1bf35fd0c2bd",
        "colab": {
          "base_uri": "https://localhost:8080/",
          "height": 34
        }
      },
      "source": [
        "%%writefile convolution_lut.h\n",
        "#include <stdio.h>\n",
        "#include <time.h>\n",
        "#include <cuda.h>\n",
        "#include <cuda_runtime_api.h>\n",
        "\n",
        "#ifdef DEBUG\n",
        "#define DEBUG_TEST 1\n",
        "#else\n",
        "#define DEBUG_TEST 0\n",
        "#endif\n",
        "\n",
        "// # MACRO info_print()\n",
        "#define info_print(...) \\\n",
        "    do { if (DEBUG_TEST) {fprintf(stdout, \"INFO : %s(%d) : \", \\\n",
        "                                  __FUNCTION__, __LINE__); \\\n",
        "                          fprintf(stdout, __VA_ARGS__ );} \\\n",
        "    } while (0)\n",
        "\n",
        "// # MACRO error_print()\n",
        "#define error_print(...) \\\n",
        "    do { fprintf(stderr, \"ERROR : %s(%d) : \", __FUNCTION__, __LINE__); \\\n",
        "         fprintf(stderr, __VA_ARGS__ ); \\\n",
        "    } while (0)\n",
        "\n",
        "// # MACRO CUDA_CHECK_ERROR()\n",
        "#define CUDA_CHECK_ERROR(X) \\\n",
        "    do {cudaError_t err; \\\n",
        "        err = cudaGetLastError(); \\\n",
        "        if (err != cudaSuccess) { \\\n",
        "            error_print(\"CODE %d -> %s\\n\", err, cudaGetErrorString(err)); \\\n",
        "            X; \\\n",
        "        }} while(0)\n",
        "\n",
        "// # ESTRUCTURA para la imagen convolucionada (resultado final)\n",
        "typedef struct sImage2d{\n",
        "    int width;\n",
        "    int height;\n",
        "    float pixel_width;\n",
        "    float pixel_height;\n",
        "    float * data;\n",
        "} sImage2d;\n",
        "\n",
        "// # ESTRUCTURA para la lista de posiciones 2D\n",
        "typedef struct sPositions2d{\n",
        "    int n;\n",
        "    float * data;\n",
        "} Positions2d;\n",
        "\n",
        "// # ESTRUCTURA para la LUT de la PSF\n",
        "typedef struct sPSF{\n",
        "    int width;\n",
        "    int height;\n",
        "    float pixel_width;\n",
        "    float pixel_height;\n",
        "    float * data;\n",
        "} sPSF;\n",
        "\n",
        "// # Declaración de funciones utilizadas\n",
        "int set_texture2d(cudaArray * cuArray, sPSF * psf, \n",
        "                  cudaTextureObject_t * texObj, bool normalized);\n",
        "\n",
        "int free_texture(cudaArray * cuArray, cudaTextureObject_t * texObj);\n",
        "\n",
        "int set_device(int device);\n",
        "\n",
        "int upload_data(sImage2d * h_image, Positions2d * h_pos, sPSF * h_psf,\n",
        "                sImage2d * d_image, Positions2d * d_pos,\n",
        "                cudaTextureObject_t * texObj, cudaArray * cuArray);\n",
        "\n",
        "int launch_kernels(sImage2d * h_image, Positions2d * h_pos, sPSF * h_psf, \n",
        "                   sImage2d * d_image, Positions2d * d_pos, \n",
        "                   cudaTextureObject_t * texObj);\n",
        "                \n",
        "int download_data(sImage2d * h_image, Positions2d * h_pos, sPSF * h_psf,\n",
        "                  sImage2d * d_image, Positions2d * d_pos,\n",
        "                  cudaTextureObject_t * texObj, cudaArray * cuArray);"
      ],
      "execution_count": 0,
      "outputs": [
        {
          "output_type": "stream",
          "text": [
            "Writing convolution_lut.h\n"
          ],
          "name": "stdout"
        }
      ]
    },
    {
      "cell_type": "markdown",
      "metadata": {
        "id": "a6odb-lbmskr",
        "colab_type": "text"
      },
      "source": [
        "En Python nos generamos las mismas estructuras de datos en forma de objetos. Esto nos permitirá facilitar la comunicación entre Python y nuestras bibliotecas de CUDA."
      ]
    },
    {
      "cell_type": "code",
      "metadata": {
        "id": "43OHZacfms6C",
        "colab_type": "code",
        "outputId": "93e7def7-eb06-4c2e-d968-30d46c12cbf8",
        "colab": {
          "base_uri": "https://localhost:8080/",
          "height": 34
        }
      },
      "source": [
        "%%writefile structures.py\n",
        "import numpy as np\n",
        "from ctypes import Structure, c_int, c_void_p, c_float, POINTER\n",
        "from typing import Tuple\n",
        "\n",
        "class sImage2d(Structure):\n",
        "    \"\"\" Estructura de Ctypes para la imagen convolucionada \"\"\"\n",
        "    _fields_ = [(\"width\", c_int),\n",
        "                (\"height\", c_int),\n",
        "                (\"pixel_width\", c_float),\n",
        "                (\"pixel_height\", c_float),\n",
        "                (\"data\", c_void_p)]\n",
        "\n",
        "    @classmethod\n",
        "    def set_data(cls, image: np.ndarray,\n",
        "                 pixel_width: float = 1.0, pixel_height: float = 1.0):\n",
        "        structure = cls()\n",
        "        structure.width = image.shape[1]\n",
        "        structure.height = image.shape[0]\n",
        "        structure.pixel_width = c_float(pixel_width)\n",
        "        structure.pixel_height = c_float(pixel_height)\n",
        "        structure.data = image.ctypes.data_as(c_void_p)\n",
        "        return structure\n",
        "\n",
        "\n",
        "class sPositions2d(Structure):\n",
        "    \"\"\" Estructura de Ctypes para la lista de posiciones \"\"\"\n",
        "    _fields_ = [(\"n\", c_int),\n",
        "                (\"data\", c_void_p)]\n",
        "\n",
        "    @classmethod\n",
        "    def set_data(cls, positions: np.ndarray):\n",
        "        structure = cls()\n",
        "        if positions.ndim != 2:\n",
        "            raise ValueError(f'positions.ndim = {positions.ndim} != 2\\n')\n",
        "        structure.n = positions.shape[0]\n",
        "        structure.data = positions.ctypes.data_as(c_void_p)\n",
        "        return structure\n",
        "\n",
        "\n",
        "class sPSF(Structure):\n",
        "    \"\"\" Estructura de Ctypes para los datos de una PSF tipo LUT \"\"\"\n",
        "    _fields_ = [(\"width\", c_int),\n",
        "                (\"height\", c_int),\n",
        "                (\"pixel_width\", c_float),\n",
        "                (\"pixel_height\", c_float),\n",
        "                (\"data\", c_void_p),]\n",
        "\n",
        "    @classmethod\n",
        "    def set_data(cls, psf_data: np.ndarray, \n",
        "                 pixel_width: float = 1.0, pixel_height: float = 1.0):\n",
        "        structure = cls()\n",
        "        structure.width = psf_data.shape[1]\n",
        "        structure.height = psf_data.shape[0]\n",
        "        structure.pixel_width = c_float(pixel_width)\n",
        "        structure.pixel_height = c_float(pixel_height)\n",
        "        structure.data = psf_data.ctypes.data_as(c_void_p)\n",
        "\n",
        "        return structure\n",
        "\n",
        "# Punteros a cada tipo de estructura\n",
        "pImage2d = POINTER(sImage2d)\n",
        "pPositions2d = POINTER(sPositions2d)\n",
        "pPSF = POINTER(sPSF)"
      ],
      "execution_count": 0,
      "outputs": [
        {
          "output_type": "stream",
          "text": [
            "Writing structures.py\n"
          ],
          "name": "stdout"
        }
      ]
    },
    {
      "cell_type": "markdown",
      "metadata": {
        "id": "XnOTm3c8zrm9",
        "colab_type": "text"
      },
      "source": [
        "## Gestión de la memoria de texturas\n",
        "\n",
        "La memoria de texturas recibe un tratamiento especial de configuración por lo que vamos a separar algunas tareas en funciones independientes. \n",
        "\n",
        "En el siguiente archivo (*textures.cu*) implementamos una función **set_texture2d** que reciba los datos de la PSF desde el HOST, los transfiera a DEVICE y los configure como texturas. La configuración del objeto que maneja las texturas la realizamos como nos indica la [documentación](https://docs.nvidia.com/cuda/cuda-c-programming-guide/index.html#texture-object-api) de CUDA.\n",
        "\n",
        "Implementamos además una segunda función **free_texture** que libere la memoria que hemos pedido.\n"
      ]
    },
    {
      "cell_type": "code",
      "metadata": {
        "id": "KRRSx7NXjSqh",
        "colab_type": "code",
        "outputId": "5d88a49d-d994-4799-c5aa-8bc6629db160",
        "colab": {
          "base_uri": "https://localhost:8080/",
          "height": 34
        }
      },
      "source": [
        "%%writefile textures.cu\n",
        "#include \"convolution_lut.h\"\n",
        "\n",
        "int set_texture2d(cudaArray * cuArray, sPSF * psf, \n",
        "                   cudaTextureObject_t * texObj, bool normalized){\n",
        "\n",
        "    info_print(\"Allocate CUDA array in device memory\\n\");\n",
        "    cudaChannelFormatDesc channelDesc =\n",
        "               cudaCreateChannelDesc(32, 0, 0, 0,\n",
        "                                     cudaChannelFormatKindFloat);\n",
        "    cudaMallocArray(&cuArray, &channelDesc, psf->width, psf->height);\n",
        "\n",
        "    CUDA_CHECK_ERROR(return err);\n",
        "\n",
        "    info_print(\"Copy to device memory sPSF data from host\\n\");\n",
        "    /*cudaMemcpyToArray(cuArray, 0, 0, psf->data, \n",
        "                      (psf->width * psf->height) * sizeof(float), \n",
        "                      cudaMemcpyHostToDevice);*/\n",
        "\n",
        "    cudaMemcpy2DToArray(cuArray, 0, 0, psf->data,\n",
        "                        psf->width * sizeof(float),\n",
        "                        psf->width * sizeof(float),\n",
        "                        psf->height,\n",
        "                        cudaMemcpyHostToDevice);\n",
        "\n",
        "    CUDA_CHECK_ERROR(return err);\n",
        "\n",
        "    info_print(\"Specify texture\\n\");\n",
        "    struct cudaResourceDesc resDesc;\n",
        "    memset(&resDesc, 0, sizeof(resDesc));\n",
        "    resDesc.resType = cudaResourceTypeArray;\n",
        "    resDesc.res.array.array = cuArray;\n",
        "    CUDA_CHECK_ERROR(return err);\n",
        "\n",
        "    info_print(\"Specify texture object parameters\\n\");\n",
        "    struct cudaTextureDesc texDesc;\n",
        "    memset(&texDesc, 0, sizeof(texDesc));\n",
        "    texDesc.addressMode[0]   = cudaAddressModeBorder;\n",
        "    texDesc.addressMode[1]   = cudaAddressModeBorder;\n",
        "    texDesc.filterMode       = cudaFilterModeLinear;\n",
        "    texDesc.readMode         = cudaReadModeElementType;\n",
        "    texDesc.normalizedCoords = normalized;\n",
        "    CUDA_CHECK_ERROR(return err);\n",
        "\n",
        "    info_print(\"Create texture object\\n\");\n",
        "    cudaCreateTextureObject(texObj, &resDesc, &texDesc, NULL);\n",
        "    CUDA_CHECK_ERROR(return err);\n",
        "\n",
        "    return 0;\n",
        "\n",
        "}\n",
        "\n",
        "int free_texture(cudaArray * cuArray, cudaTextureObject_t * texObj){\n",
        "    info_print(\"Destroy texture object\\n\");\n",
        "    cudaDestroyTextureObject(*texObj);\n",
        "    info_print(\"Free texture memory\\n\");\n",
        "    cudaFreeArray(cuArray);\n",
        "    return 0;\n",
        "}"
      ],
      "execution_count": 0,
      "outputs": [
        {
          "output_type": "stream",
          "text": [
            "Writing textures.cu\n"
          ],
          "name": "stdout"
        }
      ]
    },
    {
      "cell_type": "markdown",
      "metadata": {
        "id": "qPjMxQOzuTgU",
        "colab_type": "text"
      },
      "source": [
        "## Interfaz Host-Device\n",
        "\n",
        "Armaremos una función de uso general que gestione la comunicación entre la CPU y la GPU realizando las siguientes sub-funciones:\n",
        "\n",
        "*   **set_device**: Selección del dispositivo\n",
        "*   **upload_data**: Transferencia de memoria HOST->DEVICE\n",
        "*   << Paralelización de la tarea >>\n",
        "*   **download_dada**: Transferencia de memoria DEVICE-HOST\n",
        "\n",
        "La paralelización de la tarea de convolución consistirá en llamar a una función definida en un archivo externo. Esto nos permitirá, mediante una compilación explícita, intercambiar la forma en que realizamos la tarea.\n"
      ]
    },
    {
      "cell_type": "code",
      "metadata": {
        "id": "BA9cqBKusuay",
        "colab_type": "code",
        "outputId": "4cf94f15-9461-464a-d4e9-0deb50322a6c",
        "colab": {
          "base_uri": "https://localhost:8080/",
          "height": 34
        }
      },
      "source": [
        "%%writefile lutConvolutionLauncher.cu\n",
        "#include \"convolution_lut.h\"\n",
        "\n",
        "int set_device(int device){\n",
        "    int count, current_device;\n",
        "    cudaGetDeviceCount(&count);\n",
        "    if (device > count){\n",
        "        return -1;\n",
        "    }\n",
        "    info_print(\"Selecting device: %d\\n\", device);\n",
        "    cudaSetDevice(device);\n",
        "    CUDA_CHECK_ERROR(return err);\n",
        "    cudaGetDevice(&current_device);\n",
        "    info_print(\"Current device: %d\\n\", current_device);\n",
        "    if (current_device != device){\n",
        "        return -2;\n",
        "    }\n",
        "    return 0;\n",
        "}\n",
        "\n",
        "int upload_data(sImage2d * h_image, Positions2d * h_pos, sPSF * h_psf,\n",
        "                sImage2d * d_image, Positions2d * d_pos,\n",
        "                cudaTextureObject_t * texObj, cudaArray * cuArray) {\n",
        "\n",
        "    int r = 0;\n",
        "\n",
        "    info_print(\"Input parameters:\\n\");\n",
        "    info_print(\"image->width = %d\\n\", h_image->width);\n",
        "    info_print(\"image->height = %d\\n\", h_image->height);\n",
        "    info_print(\"image->pixel_width = %f\\n\", h_image->pixel_width);\n",
        "    info_print(\"image->pixel_height = %f\\n\", h_image->pixel_height);\n",
        "\n",
        "    info_print(\"psf->width = %d\\n\", h_psf->width);\n",
        "    info_print(\"psf->height = %d\\n\", h_psf->height);\n",
        "    info_print(\"psf->pixel_width = %f\\n\", h_psf->pixel_width);\n",
        "    info_print(\"psf->pixel_height = %f\\n\", h_psf->pixel_height);\n",
        "    info_print(\"psf->data[%d] = %f\\n\", \n",
        "               (h_psf->width * h_psf-> height) / 2, \n",
        "               h_psf->data[(h_psf->width * h_psf-> height) / 2]);\n",
        "\n",
        "    info_print(\"pos->n = %d\\n\", h_pos->n);\n",
        "    info_print(\"pos->data[0] = %f\\n\", h_pos->data[0]);\n",
        "    info_print(\"pos->data[1] = %f\\n\", h_pos->data[1]);\n",
        "\n",
        "    info_print(\"Setting PSF as texture object\\n\");\n",
        "    r = set_texture2d(cuArray, h_psf, texObj, true);\n",
        "    if (r != 0) return r;\n",
        "\n",
        "    info_print(\"Allocating memory for result in device\\n\");\n",
        "\n",
        "    d_image->width = h_image->width;\n",
        "    d_image->height = h_image->height;\n",
        "    d_image->pixel_width = h_image->pixel_width;\n",
        "    d_image->pixel_height = h_image->pixel_height;\n",
        "\n",
        "    size_t result_size = h_image->width * h_image->height * sizeof(float);\n",
        "    info_print(\"Allocated %ld bytes on %p (device)\\n\", \n",
        "               result_size, d_image->data);\n",
        "    cudaMalloc(&d_image->data, result_size);\n",
        "    CUDA_CHECK_ERROR(return err);\n",
        "    info_print(\"Allocated %ld bytes on %p (device)\\n\", \n",
        "               result_size, d_image->data);\n",
        "\n",
        "    info_print(\"Allocating memory for positions coordinates in device\\n\");\n",
        "    \n",
        "    d_pos->n = h_pos->n;\n",
        "    size_t pos_size = h_pos->n * sizeof(float) * 2;\n",
        "    cudaMalloc(&d_pos->data, pos_size);\n",
        "    CUDA_CHECK_ERROR(return err);\n",
        "\n",
        "    info_print(\"Copying image memory from %p (host) to %p (device)\\n\", \n",
        "               h_pos->data, d_pos->data);\n",
        "    cudaMemcpy(d_pos->data, h_pos->data, pos_size, cudaMemcpyHostToDevice);\n",
        "    info_print(\"Copied %ld bytes\\n\", pos_size);\n",
        "    CUDA_CHECK_ERROR(return err);\n",
        "\n",
        "    return 0;\n",
        "}\n",
        "\n",
        "int download_data(sImage2d * h_image, Positions2d * h_pos, sPSF * h_psf,\n",
        "                  sImage2d * d_image, Positions2d * d_pos,\n",
        "                  cudaTextureObject_t * texObj, cudaArray * cuArray){\n",
        "    \n",
        "    size_t result_size = h_image->width * h_image->height * sizeof(float);\n",
        "\n",
        "    info_print(\"Copying image memory from %p (device) to %p (host)\\n\", \n",
        "               d_image->data, h_image->data);\n",
        "    cudaMemcpy(h_image->data, d_image->data, result_size, \n",
        "               cudaMemcpyDeviceToHost);\n",
        "    CUDA_CHECK_ERROR();\n",
        "    \n",
        "    info_print(\"Free device memory\\n\");\n",
        "    free_texture(cuArray, texObj);\n",
        "    cudaFree(d_image->data);\n",
        "    cudaFree(d_pos->data);\n",
        "\n",
        "    return 0;\n",
        "}\n",
        "\n",
        "extern \"C\" {\n",
        "int lutConvolution2D(sImage2d * h_image, Positions2d * h_pos, sPSF * h_psf, \n",
        "                     int device){\n",
        "    int r = 0;\n",
        "\n",
        "    cudaArray * cuArray = 0;\n",
        "    cudaTextureObject_t texObj = 0;\n",
        "    sImage2d d_image;\n",
        "    Positions2d d_pos;\n",
        "    \n",
        "    info_print(\"Setting device\\n\");\n",
        "    set_device(device);\n",
        "\n",
        "    info_print(\"Uploading data to device\\n\");\n",
        "    r = upload_data(h_image, h_pos, h_psf, &d_image, &d_pos, &texObj, cuArray);\n",
        "    if (r != 0) return r;\n",
        "    CUDA_CHECK_ERROR(return err);\n",
        "\n",
        "    info_print(\"Executing kernels\\n\");\n",
        "    r = launch_kernels(h_image, h_pos, h_psf, &d_image, &d_pos, &texObj);\n",
        "    if (r != 0) return r;\n",
        "    CUDA_CHECK_ERROR(return err);\n",
        "\n",
        "    info_print(\"Downloading data from device\\n\");\n",
        "    r = download_data(h_image, h_pos, h_psf, &d_image, &d_pos, &texObj, cuArray);\n",
        "    if (r != 0) return r;\n",
        "    CUDA_CHECK_ERROR(return err);\n",
        "\n",
        "    return 0;\n",
        "}}"
      ],
      "execution_count": 0,
      "outputs": [
        {
          "output_type": "stream",
          "text": [
            "Writing lutConvolutionLauncher.cu\n"
          ],
          "name": "stdout"
        }
      ]
    },
    {
      "cell_type": "markdown",
      "metadata": {
        "id": "5AsaZ0ZeCQvb",
        "colab_type": "text"
      },
      "source": [
        "## CUDA Kernels\n",
        "\n",
        "Utilizaremos los siguientes nombres en los archivos:\n",
        "\n",
        "*    **kernel_d{  }** para pruebas en desarrollo\n",
        "*    **kernel_v{  }** para versiones estables"
      ]
    },
    {
      "cell_type": "markdown",
      "metadata": {
        "id": "vNSPr1UTCbPn",
        "colab_type": "text"
      },
      "source": [
        "### Algunos kernels para pruebas de desarrollo y análisis de rendimiento\n",
        "\n",
        "El kernel_d00 es una prueba sencilla de funcionamiento que imprime sobre cada pixel de la imagen la identificación del thread asignado al mismo.\n",
        "\n",
        "El kernel_d01 utiliza la lista de posiciones cargada en la memoria global para ubicar curvas gaussianas sobre la imagen.\n",
        "\n",
        "El kernel_d02 realiza la misma tarea que el anterior pero utiliza la memoria compartida para reducir la latencia.\n",
        "\n",
        "El kernel_d03 utiliza el mapeado de texturas para ajustar el tamaño de la PSF ingresada y hacerlo coincidir con el de la imagen generada.\n",
        "\n",
        "El kernel_v0_1 reune las tareas realizadas en todos los anteriores: identifica posiciones, calcula posiciones, utiliza memoria compartida y aplica texturas. Da lugar a la primera versión funcional con aplicación de texturas para la convolución de una PSF tipo LUT."
      ]
    },
    {
      "cell_type": "code",
      "metadata": {
        "id": "SST5MJdYNScA",
        "colab_type": "code",
        "outputId": "a2c89cd2-793f-45f5-a04f-b3d3551b463c",
        "colab": {
          "base_uri": "https://localhost:8080/",
          "height": 34
        }
      },
      "source": [
        "%%writefile kernel_d00.cu\n",
        "// \"\"\"\n",
        "// Este kernel de prueba escribe sobre la imagen objetivo\n",
        "// la identificación del thread utilizado\n",
        "// \"\"\" \n",
        "#include \"convolution_lut.h\"\n",
        "\n",
        "__global__ void lutKernel2D(sImage2d image, Positions2d pos, sPSF psf, \n",
        "                            cudaTextureObject_t texPSF){\n",
        "\n",
        "    // Worker ID\n",
        "    size_t idx = blockIdx.x * blockDim.x + threadIdx.x;\n",
        "    size_t idy = blockIdx.y * blockDim.y + threadIdx.y;\n",
        "\n",
        "    // Condition for valid work\n",
        "    if (idx < image.width && idy < image.height) {\n",
        "        image.data[idy * image.width + idx] = idy * image.width + idx;\n",
        "    }\n",
        "}\n",
        "\n",
        "int launch_kernels(sImage2d * h_image, Positions2d * h_pos, sPSF * h_psf, \n",
        "                   sImage2d * d_image, Positions2d * d_pos, \n",
        "                   cudaTextureObject_t * texObj){\n",
        "    \n",
        "    info_print(\"Kernel file: %s\\n\", __FILE__);\n",
        "\n",
        "    info_print(\"Grid and block sizes:\\n\");\n",
        "    dim3 dimBlock(16, 16);\n",
        "    dim3 dimGrid((h_image->width  + dimBlock.x - 1) / dimBlock.x,\n",
        "                 (h_image->height + dimBlock.y - 1) / dimBlock.y);\n",
        "\n",
        "    info_print(\"dimGrid: %dx%d\\n\", dimGrid.x, dimGrid.y);\n",
        "    info_print(\"dimBlock: %dx%d\\n\", dimBlock.x, dimBlock.y);\n",
        "\n",
        "    info_print(\"Executing kernels\\n\");\n",
        "    lutKernel2D <<<dimGrid, dimBlock>>> (*d_image, *d_pos, *h_psf, *texObj);\n",
        "    info_print(\"Kernels finished\\n\");\n",
        "    return 0;\n",
        "}"
      ],
      "execution_count": 0,
      "outputs": [
        {
          "output_type": "stream",
          "text": [
            "Writing kernel_d00.cu\n"
          ],
          "name": "stdout"
        }
      ]
    },
    {
      "cell_type": "code",
      "metadata": {
        "id": "MjlKpMQxbpGU",
        "colab_type": "code",
        "outputId": "d806b846-ed7a-4c81-ce8c-ef7d14ca370b",
        "colab": {
          "base_uri": "https://localhost:8080/",
          "height": 34
        }
      },
      "source": [
        "%%writefile kernel_d01.cu\n",
        "// \"\"\"\n",
        "// Este kernel de prueba utiliza la lista de posiciones\n",
        "// cargada en la memoria global.\n",
        "// Marca las posiciones sobre la imagen para verificarlas\n",
        "// utilizando la función de ejemplo f(r) = exp(-r**2).\n",
        "// \"\"\" \n",
        "#include \"convolution_lut.h\"\n",
        "\n",
        "__global__ void lutKernel2D(sImage2d image, Positions2d pos, sPSF psf, \n",
        "                            cudaTextureObject_t texPSF){\n",
        "\n",
        "    // Worker ID\n",
        "    size_t idx = blockIdx.x * blockDim.x + threadIdx.x;\n",
        "    size_t idy = blockIdx.y * blockDim.y + threadIdx.y;\n",
        "\n",
        "    float px, py, r2, pixel;\n",
        "\n",
        "    // Condition for valid work\n",
        "    if (idx < image.width && idy < image.height) {\n",
        "        pixel = 0;\n",
        "        for (int i = 0; i < pos.n; i++){\n",
        "            px = idx-pos.data[i*2];\n",
        "            py = idy-pos.data[i*2+1];\n",
        "            r2 = px*px + py*py;\n",
        "            pixel += exp(-r2);\n",
        "        }\n",
        "        image.data[idy * image.width + idx] = pixel;\n",
        "    }\n",
        "}\n",
        "\n",
        "int launch_kernels(sImage2d * h_image, Positions2d * h_pos, sPSF * h_psf, \n",
        "                   sImage2d * d_image, Positions2d * d_pos, \n",
        "                   cudaTextureObject_t * texObj){\n",
        "    \n",
        "    info_print(\"Kernel file: %s\\n\", __FILE__);\n",
        "\n",
        "    info_print(\"Grid and block sizes:\\n\");\n",
        "    dim3 dimBlock(16, 16);\n",
        "    dim3 dimGrid((h_image->width  + dimBlock.x - 1) / dimBlock.x,\n",
        "                 (h_image->height + dimBlock.y - 1) / dimBlock.y);\n",
        "\n",
        "    info_print(\"dimGrid: %dx%d\\n\", dimGrid.x, dimGrid.y);\n",
        "    info_print(\"dimBlock: %dx%d\\n\", dimBlock.x, dimBlock.y);\n",
        "\n",
        "    info_print(\"Executing kernels\\n\");\n",
        "    lutKernel2D <<<dimGrid, dimBlock>>> (*d_image, *d_pos, *h_psf, *texObj);\n",
        "    info_print(\"Kernels finished\\n\");\n",
        "    return 0;\n",
        "}"
      ],
      "execution_count": 0,
      "outputs": [
        {
          "output_type": "stream",
          "text": [
            "Writing kernel_d01.cu\n"
          ],
          "name": "stdout"
        }
      ]
    },
    {
      "cell_type": "code",
      "metadata": {
        "id": "o4a-LYf2R_OH",
        "colab_type": "code",
        "outputId": "f9b03eab-546a-4b0d-b773-0e10c6b2b6d4",
        "colab": {
          "base_uri": "https://localhost:8080/",
          "height": 34
        }
      },
      "source": [
        "%%writefile kernel_d02.cu\n",
        "// \"\"\"\n",
        "// Este kernel de prueba transfiere la lista de posiciones\n",
        "// de la memoria global a la memoria compartida.\n",
        "// Marca las posiciones sobre la imagen para verificarlas\n",
        "// Marca las posiciones sobre la imagen para verificarlas\n",
        "// utilizando la función de ejemplo f(r) = exp(-r**2).\n",
        "// \"\"\" \n",
        "#include \"convolution_lut.h\"\n",
        "\n",
        "__global__ void lutKernel2D(sImage2d image, Positions2d pos, sPSF psf, \n",
        "                            cudaTextureObject_t texPSF){\n",
        "\n",
        "    // Worker ID\n",
        "    size_t idx = blockIdx.x * blockDim.x + threadIdx.x;\n",
        "    size_t idy = blockIdx.y * blockDim.y + threadIdx.y;\n",
        "\n",
        "    int idk = blockDim.x * threadIdx.y + threadIdx.x;\n",
        "\n",
        "    extern __shared__ float shared[];\n",
        "\n",
        "    if (blockDim.x * blockDim.y >= pos.n * 2){\n",
        "        if (idk < pos.n * 2){\n",
        "            shared[idk] = pos.data[idk];\n",
        "        }\n",
        "    }\n",
        "    else{\n",
        "        int m = pos.n * 2 / blockDim.x * blockDim.y;\n",
        "        for (int i = 0; i < m; i++){\n",
        "            if (idk * m + i < pos.n * 2){\n",
        "                shared[idk * m + i] = pos.data[idk * m + i];\n",
        "            }\n",
        "        }\n",
        "    }\n",
        "\n",
        "    __syncthreads();\n",
        "\n",
        "    float px, py, r2, pixel;\n",
        "\n",
        "    // Condition for valid work\n",
        "    if (idx < image.width && idy < image.height) {\n",
        "        pixel = 0;\n",
        "        for (int i = 0; i < pos.n; i++){\n",
        "            px = idx-shared[i*2];\n",
        "            py = idy-shared[i*2+1];\n",
        "            r2 = px*px + py*py;\n",
        "            pixel += exp(-r2);\n",
        "        }\n",
        "        image.data[idy * image.width + idx] = pixel;\n",
        "    }\n",
        "}\n",
        "\n",
        "int launch_kernels(sImage2d * h_image, Positions2d * h_pos, sPSF * h_psf, \n",
        "                   sImage2d * d_image, Positions2d * d_pos, \n",
        "                   cudaTextureObject_t * texObj){\n",
        "    \n",
        "    info_print(\"Kernel file: %s\\n\", __FILE__);\n",
        "\n",
        "    info_print(\"Grid and block sizes:\\n\");\n",
        "    dim3 dimBlock(16, 16);\n",
        "    dim3 dimGrid((h_image->width  + dimBlock.x - 1) / dimBlock.x,\n",
        "                 (h_image->height + dimBlock.y - 1) / dimBlock.y);\n",
        "\n",
        "    info_print(\"dimGrid: %dx%d\\n\", dimGrid.x, dimGrid.y);\n",
        "    info_print(\"dimBlock: %dx%d\\n\", dimBlock.x, dimBlock.y);\n",
        "\n",
        "    // Tamaño para la memoria compartida\n",
        "    size_t sm = h_pos->n * sizeof(float) * 2;\n",
        "\n",
        "    info_print(\"Executing kernels\\n\");\n",
        "    lutKernel2D <<<dimGrid, dimBlock, sm>>> (*d_image, *d_pos, *h_psf, *texObj);\n",
        "    info_print(\"Kernels finished\\n\");\n",
        "    return 0;\n",
        "}"
      ],
      "execution_count": 0,
      "outputs": [
        {
          "output_type": "stream",
          "text": [
            "Writing kernel_d02.cu\n"
          ],
          "name": "stdout"
        }
      ]
    },
    {
      "cell_type": "code",
      "metadata": {
        "id": "WncZuBp2CaBz",
        "colab_type": "code",
        "outputId": "9865578f-9723-4392-c680-12fd2c84c442",
        "colab": {
          "base_uri": "https://localhost:8080/",
          "height": 34
        }
      },
      "source": [
        "%%writefile kernel_d03.cu\n",
        "// \"\"\"\n",
        "// Este kernel utiliza la Unidad de Mapeo de Texturas (TMU) para\n",
        "// ajustar la PSF LUT al tamaño de la imagen.\n",
        "// Por ejemplo, para una LUT de 25x25 aplicada a una imagen de 64x64\n",
        "// cada pixel (X, Y) será ocupado por la posición (25/64 * X, 25/64 * Y).\n",
        "//\n",
        "// Los valores de la LUT son interpolados por la TMU como se indica en la \n",
        "// sección texture-fetching de la documentación de CUDA.\n",
        "//\n",
        "// https://docs.nvidia.com/cuda/cuda-c-programming-guide/index.html\n",
        "// \"\"\" \n",
        "#include \"convolution_lut.h\"\n",
        "\n",
        "__global__ void lutKernel2D(sImage2d image, Positions2d pos, sPSF psf, \n",
        "                            cudaTextureObject_t texPSF){\n",
        "\n",
        "    // Worker ID\n",
        "    size_t idx = blockIdx.x * blockDim.x + threadIdx.x;\n",
        "    size_t idy = blockIdx.y * blockDim.y + threadIdx.y;\n",
        "\n",
        "    // Condition for valid work\n",
        "    if (idx < image.width && idy < image.height) {\n",
        "        float px = (float) idx / image.width;\n",
        "        float py = (float) idy / image.height;\n",
        "        image.data[idy * image.width + idx] = tex2D<float>(texPSF, px, py);\n",
        "    }\n",
        "}\n",
        "\n",
        "int launch_kernels(sImage2d * h_image, Positions2d * h_pos, sPSF * h_psf, \n",
        "                   sImage2d * d_image, Positions2d * d_pos, \n",
        "                   cudaTextureObject_t * texObj){\n",
        "    \n",
        "    info_print(\"Kernel file: %s\\n\", __FILE__);\n",
        "\n",
        "    info_print(\"Grid and block sizes:\\n\");\n",
        "    dim3 dimBlock(16, 16);\n",
        "    dim3 dimGrid((h_image->width  + dimBlock.x - 1) / dimBlock.x,\n",
        "                 (h_image->height + dimBlock.y - 1) / dimBlock.y);\n",
        "\n",
        "    info_print(\"dimGrid: %dx%d\\n\", dimGrid.x, dimGrid.y);\n",
        "    info_print(\"dimBlock: %dx%d\\n\", dimBlock.x, dimBlock.y);\n",
        "\n",
        "    info_print(\"Executing kernels\\n\");\n",
        "    lutKernel2D <<<dimGrid, dimBlock >>> (*d_image, *d_pos, *h_psf, *texObj);\n",
        "    info_print(\"Kernels finished\\n\");\n",
        "    return 0;\n",
        "}"
      ],
      "execution_count": 0,
      "outputs": [
        {
          "output_type": "stream",
          "text": [
            "Writing kernel_d03.cu\n"
          ],
          "name": "stdout"
        }
      ]
    },
    {
      "cell_type": "code",
      "metadata": {
        "id": "qx7I6suJg_do",
        "colab_type": "code",
        "outputId": "f0c5c7de-edc0-4326-c713-cde4d4e21e48",
        "colab": {
          "base_uri": "https://localhost:8080/",
          "height": 34
        }
      },
      "source": [
        "%%writefile kernel_v0_1.cu\n",
        "// \"\"\"\n",
        "// Este kernel combina la utilizacion de la memoria compartida para almacenar\n",
        "// la lista de posiciones con la interpolación de la PSF LUT que aplica la \n",
        "// Unidad de Mapeo de Texturas (TMU) para calcular la convolución.\n",
        "//\n",
        "// La PSF LUT puede indicar un factor de escala respecto de la unidad utilizada\n",
        "// para la imagen resultante. Por ejemplo, si cada pixel de la PSF mide A y\n",
        "// los pixels de la imagen resultante miden B, deberá indicarse:\n",
        "//\n",
        "// psf.w_size = \n",
        "// \"\"\" \n",
        "#include \"convolution_lut.h\"\n",
        "\n",
        "__global__ void lutKernel2D(sImage2d image, Positions2d pos, sPSF psf, \n",
        "                            cudaTextureObject_t texPSF){\n",
        "\n",
        "    // Worker ID\n",
        "    size_t idx = blockIdx.x * blockDim.x + threadIdx.x;\n",
        "    size_t idy = blockIdx.y * blockDim.y + threadIdx.y;\n",
        "\n",
        "    int idk = blockDim.x * threadIdx.y + threadIdx.x;\n",
        "\n",
        "    extern __shared__ float shared[];\n",
        "\n",
        "    if (blockDim.x * blockDim.y >= pos.n * 2){\n",
        "        if (idk < pos.n * 2){\n",
        "            shared[idk] = pos.data[idk];\n",
        "        }\n",
        "    }\n",
        "    else{\n",
        "        int m = pos.n * 2 / blockDim.x * blockDim.y;\n",
        "        for (int i = 0; i < m; i++){\n",
        "            if (idk * m + i < pos.n * 2){\n",
        "                shared[idk * m + i] = pos.data[idk * m + i];\n",
        "            }\n",
        "        }\n",
        "    }\n",
        "\n",
        "    __syncthreads();\n",
        "\n",
        "    float px, py, pixel;\n",
        "    float factor_x, factor_y;\n",
        "\n",
        "    factor_x = image.pixel_width / psf.pixel_width / psf.width;\n",
        "    factor_y = image.pixel_height / psf.pixel_height / psf.height;\n",
        "\n",
        "    // Condition for valid work\n",
        "    if (idx < image.width && idy < image.height) {\n",
        "        pixel = 0;\n",
        "        for (int i = 0; i < pos.n; i++){\n",
        "            px = (float) (idx-shared[i*2]) * factor_x + 0.5;\n",
        "            py = (float) (idy-shared[i*2+1]) * factor_y + 0.5;\n",
        "            pixel += tex2D<float>(texPSF, px, py);\n",
        "        }\n",
        "        image.data[idy * image.width + idx] = pixel;\n",
        "    }\n",
        "}\n",
        "\n",
        "int launch_kernels(sImage2d * h_image, Positions2d * h_pos, sPSF * h_psf, \n",
        "                   sImage2d * d_image, Positions2d * d_pos, \n",
        "                   cudaTextureObject_t * texObj){\n",
        "    \n",
        "    info_print(\"Kernel file: %s\\n\", __FILE__);\n",
        "\n",
        "    info_print(\"Grid and block sizes:\\n\");\n",
        "    dim3 dimBlock(16, 16);\n",
        "    dim3 dimGrid((h_image->width  + dimBlock.x - 1) / dimBlock.x,\n",
        "                 (h_image->height + dimBlock.y - 1) / dimBlock.y);\n",
        "\n",
        "    info_print(\"dimGrid: %dx%d\\n\", dimGrid.x, dimGrid.y);\n",
        "    info_print(\"dimBlock: %dx%d\\n\", dimBlock.x, dimBlock.y);\n",
        "\n",
        "    // Tamaño para la memoria compartida\n",
        "    size_t sm = h_pos->n * sizeof(float) * 2;\n",
        "\n",
        "    info_print(\"Executing kernels\\n\");\n",
        "    lutKernel2D <<<dimGrid, dimBlock, sm>>> (*d_image, *d_pos, *h_psf, *texObj);\n",
        "    info_print(\"Kernels finished\\n\");\n",
        "    CUDA_CHECK_ERROR(return err);\n",
        "    return 0;\n",
        "}"
      ],
      "execution_count": 0,
      "outputs": [
        {
          "output_type": "stream",
          "text": [
            "Writing kernel_v0_1.cu\n"
          ],
          "name": "stdout"
        }
      ]
    },
    {
      "cell_type": "markdown",
      "metadata": {
        "id": "_cqNF441ihUl",
        "colab_type": "text"
      },
      "source": [
        "# Prueba de funcionamiento"
      ]
    },
    {
      "cell_type": "markdown",
      "metadata": {
        "id": "q9TmVzIXioQk",
        "colab_type": "text"
      },
      "source": [
        "### Compilando con diferentes kernels\n",
        "\n",
        "Para facilitar la compilación de la biblioteca con diferentes kernels preparamos un Makefile. El mismo va a tomar todos los archivos kernel_\\%.cu, revisar si hubo cambios desde la ultima compilación y generar una biblioteca para cada uno de ellos. Tenemos la opción de generar además las bibliotecas en el modo DEBUG."
      ]
    },
    {
      "cell_type": "code",
      "metadata": {
        "id": "J3_0ySiaMUvv",
        "colab_type": "code",
        "outputId": "267a1069-1acd-4ef2-afab-9423f2f354fe",
        "colab": {
          "base_uri": "https://localhost:8080/",
          "height": 34
        }
      },
      "source": [
        "%%writefile Makefile\n",
        "BIN = ./bin/\n",
        "NVCC_FLAGS = -rdc=true\n",
        "NVCC_XFLAGS = -Xcompiler -fPIC -shared\n",
        "COMMON_FILES = textures.cu lutConvolutionLauncher.cu\n",
        "KERNELS = $(wildcard kernel_*.cu)\n",
        "LIBS = $(patsubst kernel_%.cu, $(BIN)libConvolveLUT_%.so, $(KERNELS))\n",
        "LIBS_DEBUG = $(patsubst kernel_%.cu, $(BIN)libConvolveLUT_D_%.so, $(KERNELS))\n",
        "\n",
        "all: nodebug debug\n",
        "\t\n",
        "nodebug: $(LIBS)\n",
        "\t\n",
        "debug: $(LIBS_DEBUG)\n",
        "\t\n",
        "$(LIBS): $(BIN)libConvolveLUT_%.so: kernel_%.cu $(COMMON_FILES)\n",
        "\t@mkdir -p $(BIN)\n",
        "\tnvcc $(NVCC_FLAGS) $^ $(NVCC_XFLAGS) -o $@\n",
        "\n",
        "$(LIBS_DEBUG): $(BIN)libConvolveLUT_D_%.so: kernel_%.cu $(COMMON_FILES)\n",
        "\t@mkdir -p $(BIN)\n",
        "\tnvcc $(NVCC_FLAGS) $^ -DDEBUG $(NVCC_XFLAGS) -o $@"
      ],
      "execution_count": 0,
      "outputs": [
        {
          "output_type": "stream",
          "text": [
            "Overwriting Makefile\n"
          ],
          "name": "stdout"
        }
      ]
    },
    {
      "cell_type": "code",
      "metadata": {
        "id": "71UwsvyrcvbN",
        "colab_type": "code",
        "outputId": "6da750dc-cfcb-487c-9581-a218cf9fc8a0",
        "colab": {
          "base_uri": "https://localhost:8080/",
          "height": 187
        }
      },
      "source": [
        "!make all"
      ],
      "execution_count": 0,
      "outputs": [
        {
          "output_type": "stream",
          "text": [
            "nvcc -rdc=true kernel_d00.cu textures.cu lutConvolutionLauncher.cu -Xcompiler -fPIC -shared -o bin/libConvolveLUT_d00.so\n",
            "nvcc -rdc=true kernel_v0_1.cu textures.cu lutConvolutionLauncher.cu -Xcompiler -fPIC -shared -o bin/libConvolveLUT_v0_1.so\n",
            "nvcc -rdc=true kernel_d03.cu textures.cu lutConvolutionLauncher.cu -Xcompiler -fPIC -shared -o bin/libConvolveLUT_d03.so\n",
            "nvcc -rdc=true kernel_d01.cu textures.cu lutConvolutionLauncher.cu -Xcompiler -fPIC -shared -o bin/libConvolveLUT_d01.so\n",
            "nvcc -rdc=true kernel_d02.cu textures.cu lutConvolutionLauncher.cu -Xcompiler -fPIC -shared -o bin/libConvolveLUT_d02.so\n",
            "nvcc -rdc=true kernel_d00.cu textures.cu lutConvolutionLauncher.cu -DDEBUG -Xcompiler -fPIC -shared -o bin/libConvolveLUT_D_d00.so\n",
            "nvcc -rdc=true kernel_v0_1.cu textures.cu lutConvolutionLauncher.cu -DDEBUG -Xcompiler -fPIC -shared -o bin/libConvolveLUT_D_v0_1.so\n",
            "nvcc -rdc=true kernel_d03.cu textures.cu lutConvolutionLauncher.cu -DDEBUG -Xcompiler -fPIC -shared -o bin/libConvolveLUT_D_d03.so\n",
            "nvcc -rdc=true kernel_d01.cu textures.cu lutConvolutionLauncher.cu -DDEBUG -Xcompiler -fPIC -shared -o bin/libConvolveLUT_D_d01.so\n",
            "nvcc -rdc=true kernel_d02.cu textures.cu lutConvolutionLauncher.cu -DDEBUG -Xcompiler -fPIC -shared -o bin/libConvolveLUT_D_d02.so\n"
          ],
          "name": "stdout"
        }
      ]
    },
    {
      "cell_type": "markdown",
      "metadata": {
        "id": "pkavU4A13hoo",
        "colab_type": "text"
      },
      "source": [
        "### Probando los resultados en Python\n",
        "\n"
      ]
    },
    {
      "cell_type": "markdown",
      "metadata": {
        "id": "Az0rrrh8lHmj",
        "colab_type": "text"
      },
      "source": [
        "En primer lugar cargamos las bibliotecas y configuramos la aridad de la función `lutConvolution2d` con las estructuras que definimos antes. Preparamos la memoria en Python para la convolución, las fuentes y la PSF LUT. Ejecutamos los 4 ejemplos y graficamos las imágenes resultantes para verificar a grandes rasgos su funcionamiento."
      ]
    },
    {
      "cell_type": "code",
      "metadata": {
        "id": "DW36-DRLDKAW",
        "colab_type": "code",
        "outputId": "a8173a88-fcb3-43b9-a8d3-7bc3473a21d3",
        "colab": {
          "base_uri": "https://localhost:8080/",
          "height": 295
        }
      },
      "source": [
        "import numpy as np\n",
        "import matplotlib.pyplot as plt\n",
        "from ctypes import CDLL, c_int, pointer, c_float\n",
        "from structures import (sImage2d, sPositions2d, sPSF,\n",
        "                        pImage2d, pPositions2d, pPSF)\n",
        "\n",
        "# Cargamos las distintas bibliotecas en una lista\n",
        "libraries = [CDLL(f'./bin/libConvolveLUT_d0{i:d}.so') for i in range(4)]\n",
        "libraries.append(CDLL(f'./bin/libConvolveLUT_v0_1.so'))\n",
        "\n",
        "# Definimos la aridad de la función lutConvolution2D (igual para todas)\n",
        "for lib in libraries:\n",
        "    lib.lutConvolution2D.argtypes = [pImage2d, pPositions2d, pPSF, c_int]\n",
        "\n",
        "# Preparamos la imagen, la lista de posiciones y la PSF LUT\n",
        "convolution_size = [64, 64]\n",
        "psf_size = [25, 25]\n",
        "n_sources = 100\n",
        "sigma = 2.0\n",
        "\n",
        "x_psf, y_psf = np.mgrid[0:psf_size[0], 0:psf_size[1]]\n",
        "x_psf -= psf_size[0] // 2\n",
        "y_psf -= psf_size[1] // 2\n",
        "\n",
        "image = np.zeros(convolution_size[::-1], dtype=c_float)\n",
        "pos = np.asarray(np.random.rand(n_sources, 2) * convolution_size, dtype=c_float)\n",
        "psf = np.exp(-(x_psf**2 + y_psf**2) / sigma**2 / 2, dtype=c_float)\n",
        "\n",
        "# Generamos las estructuras que esperan recibir las bibliotecas\n",
        "c_image = sImage2d.set_data(image)\n",
        "c_pos = sPositions2d.set_data(pos)\n",
        "c_psf = sPSF.set_data(psf)\n",
        "\n",
        "# Ejecutamos cada biblioteca y vemos el resultado del kernel utilizado\n",
        "fig, ax = plt.subplots(1, len(libraries), figsize=(24, 8))\n",
        "results = []\n",
        "titles = [f'libConvolveLUT_d0{i:d}.so' for i in range(4)]\n",
        "titles.append('libConvolveLUT_v0_1.so')\n",
        "\n",
        "for i, lib in enumerate(libraries):\n",
        "    lib.lutConvolution2D(c_image, c_pos, c_psf, 0)\n",
        "    results.append(np.copy(image))\n",
        "    ax[i].imshow(image, cmap='gray')\n",
        "    ax[i].set_title(titles[i])\n",
        "    # Reseteamos el resultado\n",
        "    image[:] = 0.0"
      ],
      "execution_count": 0,
      "outputs": [
        {
          "output_type": "display_data",
          "data": {
            "image/png": "[encoded data removed]",
            "text/plain": [
              "<Figure size 1728x576 with 5 Axes>"
            ]
          },
          "metadata": {
            "tags": []
          }
        }
      ]
    },
    {
      "cell_type": "markdown",
      "metadata": {
        "id": "AesKOmtPs6Nq",
        "colab_type": "text"
      },
      "source": [
        "Verificamos que los diferentes kernels se ejecutan sin errores aparentes. Tenemos de izquierda a derecha los siguientes resultados:\n",
        "\n",
        "1.   La identificación de cada CUDA Kernel sobre el píxel calculado\n",
        "2.   Una convolución por expresión utilizando la memoria global\n",
        "3.   Una convolución por expresión utilizando la memoria compartida (la diferencia en tiempos de ejecución deberá estudiarse por separado)\n",
        "4.   La utilización de la Unidad de Mapeado de Texturas (TMU) para ajustar la PSF LUT al tamaño de salida.\n",
        "5.   La primera convolución de tipo LUT que utiliza los 4 puntos anteriores.\n",
        "\n",
        "Con estos cinco kernels empezaremos el análisis, pero podemos requerir otros que se desarrollarán más adelante."
      ]
    },
    {
      "cell_type": "markdown",
      "metadata": {
        "id": "RSb0BzhDzmsY",
        "colab_type": "text"
      },
      "source": [
        "#### Auxiliar: Imprimir en pantalla el STDOUT y STDERR de las bibliotecas"
      ]
    },
    {
      "cell_type": "code",
      "metadata": {
        "id": "zsUwaH1fdTo-",
        "colab_type": "code",
        "outputId": "f6d4bef7-e386-4269-fb99-2bc861be73c9",
        "colab": {
          "base_uri": "https://localhost:8080/",
          "height": 102
        }
      },
      "source": [
        "!pip install wurlitzer\n",
        "from wurlitzer import pipes\n",
        "\n",
        "with pipes() as (out, err):\n",
        "    libraries[4].lutConvolution2D(c_image, c_pos, c_psf, 0)\n",
        "print (out.read())"
      ],
      "execution_count": 0,
      "outputs": [
        {
          "output_type": "stream",
          "text": [
            "Collecting wurlitzer\n",
            "  Downloading https://files.pythonhosted.org/packages/24/5e/f3bd8443bfdf96d2f5d10097d301076a9eb55637b7864e52d2d1a4d8c72a/wurlitzer-2.0.0-py2.py3-none-any.whl\n",
            "Installing collected packages: wurlitzer\n",
            "Successfully installed wurlitzer-2.0.0\n",
            "\n"
          ],
          "name": "stdout"
        }
      ]
    },
    {
      "cell_type": "markdown",
      "metadata": {
        "id": "dmDWWgyM5IlS",
        "colab_type": "text"
      },
      "source": [
        "# Conclusiones"
      ]
    },
    {
      "cell_type": "code",
      "metadata": {
        "id": "Fy79AdGQ6H5F",
        "colab_type": "code",
        "outputId": "cd5e7773-2b24-4df1-ee38-ee6d5a20ffbb",
        "colab": {
          "base_uri": "https://localhost:8080/",
          "height": 170
        }
      },
      "source": [
        "!ls"
      ],
      "execution_count": 0,
      "outputs": [
        {
          "output_type": "stream",
          "text": [
            "convolution_lut.h      libConvolveLUT_d02.so\t     lutConvolutionLauncher.cu\n",
            "Figura1.png\t       libConvolveLUT_d03.so\t     Makefile\n",
            "kernel_d00.cu\t       libConvolveLUT_DEBUG_d00.so   __pycache__\n",
            "kernel_d01.cu\t       libConvolveLUT_DEBUG_d01.so   sample_data\n",
            "kernel_d02.cu\t       libConvolveLUT_DEBUG_d02.so   structures.py\n",
            "kernel_d03.cu\t       libConvolveLUT_DEBUG_d03.so   test.c\n",
            "kernel_v0_1.cu\t       libConvolveLUT_DEBUG_v0_1.so  test_o.o\n",
            "libConvolveLUT_d00.so  libConvolveLUT_v0_1.so\t     textures.cu\n",
            "libConvolveLUT_d01.so  libtest.so\n"
          ],
          "name": "stdout"
        }
      ]
    },
    {
      "cell_type": "markdown",
      "metadata": {
        "id": "gqWVj2GD5NQZ",
        "colab_type": "text"
      },
      "source": [
        "En este Notebook generamos una serie de archivos que fueron subidos al [repositorio](https://github.com/alemazzeo/catmu.git) de este desarrollo:\n",
        "\n",
        "*   **convolution_lut.h**: Archivo de cabecera para los archivos de C / CUDA que contiene las estructuras de datos que utilizamos (imagenes, lista de posiciones y PSF) junto con la declaración de todas las funciones (que se definen en archivos particulares).\n",
        "\n",
        "*   **structures.py**: Un módulo auxiliar que definimos en Python como wrapper de las estructuras de datos.\n",
        "\n",
        "*   **textures.cu**: Un archivo de CUDA que contiene las funciones `set_texture2d` y `free_texture` utilizadas para asignar y liberar, respectivamente, la memoria referida a la PSF de tipo LUT.\n",
        "\n",
        "*   **lutConvolutionLauncher.cu**: El archivo que contiene la función `lutConvolution2D`, la cual sirve como punto de entrada a la biblioteca y es utilizada para ejecutar la convolución. En este Notebook dicha función será llamada desde Python mediante Ctypes, pero vale aclarar que la biblioteca dinámica generada es multiplataforma y puede ser utilizada desde otros lenguajes. El siguiente [link](https://www.mathworks.com/help/matlab/matlab_external/calling-functions-in-shared-libraries.html) por ejemplo muestra la documentación de Matlab correspondiente.\n",
        "\n",
        "*   **kernel_d##.cu**: Cuatro archivos que ponen a prueba diferentes aspectos de la implementación. A saber:\n",
        "    \n",
        "    *   **d00**: *Prueba básica de paralelización*. Imprime en cada pixel de la imagen la ID del CUDA CORE asociado al mismo. Es una forma efectiva de probar las condiciones básicas: el código está bien compilado, la GPU responde, la función se llama adecuadamente, la comunicación funciona en ambos sentidos, etc.\n",
        "\n",
        "    *   **d01**: *Prueba de lectura de posiciones desde la memoria global*. Este kernel se asemeja mucho al desarrollado para la convolución por expresión, salvo por utilizar una expresión gaussiana fija y sin parámetros controlables. \n",
        "\n",
        "    *   **d02**: *Prueba de lectura de posiciones desde la memoria compartida*. Este kernel transfiere la lista de posiciones desde la memoria global a la compartida y luego realiza la misma tarea. Además de poner a prueba el uso de la memoria compartida puede resultar útil para comparar tiempos entre las distintas técnicas.\n",
        "\n",
        "    *   **d03**: *Prueba de aplicación de texturas mediante la Unidad de Mapeo de Texturas (TMU)*. Ajusta el tamaño de la PSF en el de la imagen. Esto implica en general interpolar algunos valores de la PSF (salvo para tamaños iguales o múltiplos enteros). Es una forma controlada de visualizar la interpolación realizada por la TMU.\n",
        "\n",
        "*   **kernel_v_0_1.cu**: *Versión 0.1 para la convolución de tipo LUT*. Este kernel utiliza la memoria compartida y la aplicación de texturas para convolucionar una lista de posiciones con la PSF y generar la imagen resultante. Integra los desarrollos probados en los kernels d00 a d03.\n",
        "\n",
        "*   **Makefile**: Un archivo para compilar con mayor facilidad las bibliotecas necesarias."
      ]
    },
    {
      "cell_type": "code",
      "metadata": {
        "id": "-kCWYnqANdMD",
        "colab_type": "code",
        "colab": {}
      },
      "source": [
        "from google.colab import files\n",
        "files.download('./convolution_lut.h')\n",
        "files.download('./structures.py')\n",
        "files.download('./lutConvolutionLauncher.cu')\n",
        "files.download('./textures.cu')\n",
        "files.download('./kernel_d00.cu')\n",
        "files.download('./kernel_d01.cu')\n",
        "files.download('./kernel_d02.cu')\n",
        "files.download('./kernel_d03.cu')\n",
        "files.download('./kernel_v0_1.cu')\n",
        "files.download('./Makefile')"
      ],
      "execution_count": 0,
      "outputs": []
    },
    {
      "cell_type": "code",
      "metadata": {
        "id": "aLxgpG4gQ9ht",
        "colab_type": "code",
        "colab": {}
      },
      "source": [
        ""
      ],
      "execution_count": 0,
      "outputs": []
    }
  ]
}